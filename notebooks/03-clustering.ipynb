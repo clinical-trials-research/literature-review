{
 "cells": [
  {
   "cell_type": "markdown",
   "metadata": {},
   "source": [
    "# Clustering\n",
    "\n",
    "It is difficult to directly evaluate the quality of word embeddings. Instead, we will attempt to evaluate the quality of embeddings by creating clusters and evaluating the quality of the clusters through different metrics"
   ]
  },
  {
   "cell_type": "code",
   "execution_count": 17,
   "metadata": {},
   "outputs": [],
   "source": [
    "import sqlite3\n",
    "\n",
    "import numpy as np\n",
    "import pandas as pd\n",
    "\n",
    "from litreview import ClinicalTrials\n",
    "from litreview.encoders import BertEncoder"
   ]
  },
  {
   "cell_type": "code",
   "execution_count": 5,
   "metadata": {},
   "outputs": [
    {
     "data": {
      "text/html": [
       "<div>\n",
       "<style scoped>\n",
       "    .dataframe tbody tr th:only-of-type {\n",
       "        vertical-align: middle;\n",
       "    }\n",
       "\n",
       "    .dataframe tbody tr th {\n",
       "        vertical-align: top;\n",
       "    }\n",
       "\n",
       "    .dataframe thead th {\n",
       "        text-align: right;\n",
       "    }\n",
       "</style>\n",
       "<table border=\"1\" class=\"dataframe\">\n",
       "  <thead>\n",
       "    <tr style=\"text-align: right;\">\n",
       "      <th></th>\n",
       "      <th>BriefTitle</th>\n",
       "      <th>OfficialTitle</th>\n",
       "      <th>BriefSummary</th>\n",
       "    </tr>\n",
       "  </thead>\n",
       "  <tbody>\n",
       "    <tr>\n",
       "      <th>0</th>\n",
       "      <td>Sargramostim in Treating Patients With Chronic...</td>\n",
       "      <td>Phase II Study of GM-CSF in Patients With Chro...</td>\n",
       "      <td>RATIONALE: Colony-stimulating factors, such as...</td>\n",
       "    </tr>\n",
       "    <tr>\n",
       "      <th>1</th>\n",
       "      <td>Effect of Vardenafil on Blood Pressure in Pati...</td>\n",
       "      <td>Effect of Vardenafil on Blood Pressure in Pati...</td>\n",
       "      <td>The purpose of this study is to investigate th...</td>\n",
       "    </tr>\n",
       "    <tr>\n",
       "      <th>2</th>\n",
       "      <td>Investigate the Exposure to Selected Smoke Con...</td>\n",
       "      <td>A Controlled, Randomised, Open-label, 3-arm Pa...</td>\n",
       "      <td>The overall purpose of this clinical study con...</td>\n",
       "    </tr>\n",
       "    <tr>\n",
       "      <th>3</th>\n",
       "      <td>Brain-imaging and Adolescent Neuroscience Cons...</td>\n",
       "      <td>Brain-imaging and Adolescent Neuroscience Cons...</td>\n",
       "      <td>This is a multi-site study of adolescents 12-2...</td>\n",
       "    </tr>\n",
       "    <tr>\n",
       "      <th>4</th>\n",
       "      <td>Leverage Noninvasive Transcutaneous Vagus Nerv...</td>\n",
       "      <td>Leveraging Noninvasive Transcutaneous Vagus Ne...</td>\n",
       "      <td>Suicidal thoughts, suicide attempts, and suici...</td>\n",
       "    </tr>\n",
       "    <tr>\n",
       "      <th>...</th>\n",
       "      <td>...</td>\n",
       "      <td>...</td>\n",
       "      <td>...</td>\n",
       "    </tr>\n",
       "    <tr>\n",
       "      <th>995</th>\n",
       "      <td>Studying DNA in Blood and Bone Marrow Samples ...</td>\n",
       "      <td>Genome-Wide Interrogations in Childhood Acute ...</td>\n",
       "      <td>RATIONALE: Studying samples of blood and bone ...</td>\n",
       "    </tr>\n",
       "    <tr>\n",
       "      <th>996</th>\n",
       "      <td>Comparing Conservative to Surgical Treatment o...</td>\n",
       "      <td>Comparing Effectiveness of a Conservative Poli...</td>\n",
       "      <td>RESEARCH QUESTION Is the effectiveness of cons...</td>\n",
       "    </tr>\n",
       "    <tr>\n",
       "      <th>997</th>\n",
       "      <td>Valuation of Efficacy and Safety of Vitamin D3...</td>\n",
       "      <td>Randomized, Double-blind, Placebo-controlled T...</td>\n",
       "      <td>Fibromyalgia is a disease that significantly d...</td>\n",
       "    </tr>\n",
       "    <tr>\n",
       "      <th>998</th>\n",
       "      <td>Physical Workload Identify in Chest Compressio...</td>\n",
       "      <td>None</td>\n",
       "      <td>The chest compression depth decreases over tim...</td>\n",
       "    </tr>\n",
       "    <tr>\n",
       "      <th>999</th>\n",
       "      <td>Antral Lesions Characterization of a New Cryob...</td>\n",
       "      <td>Antral Lesions Characterization of a New Cryob...</td>\n",
       "      <td>Atrial fibrillation (AF) is defined as a supra...</td>\n",
       "    </tr>\n",
       "  </tbody>\n",
       "</table>\n",
       "<p>1000 rows × 3 columns</p>\n",
       "</div>"
      ],
      "text/plain": [
       "                                            BriefTitle  \\\n",
       "0    Sargramostim in Treating Patients With Chronic...   \n",
       "1    Effect of Vardenafil on Blood Pressure in Pati...   \n",
       "2    Investigate the Exposure to Selected Smoke Con...   \n",
       "3    Brain-imaging and Adolescent Neuroscience Cons...   \n",
       "4    Leverage Noninvasive Transcutaneous Vagus Nerv...   \n",
       "..                                                 ...   \n",
       "995  Studying DNA in Blood and Bone Marrow Samples ...   \n",
       "996  Comparing Conservative to Surgical Treatment o...   \n",
       "997  Valuation of Efficacy and Safety of Vitamin D3...   \n",
       "998  Physical Workload Identify in Chest Compressio...   \n",
       "999  Antral Lesions Characterization of a New Cryob...   \n",
       "\n",
       "                                         OfficialTitle  \\\n",
       "0    Phase II Study of GM-CSF in Patients With Chro...   \n",
       "1    Effect of Vardenafil on Blood Pressure in Pati...   \n",
       "2    A Controlled, Randomised, Open-label, 3-arm Pa...   \n",
       "3    Brain-imaging and Adolescent Neuroscience Cons...   \n",
       "4    Leveraging Noninvasive Transcutaneous Vagus Ne...   \n",
       "..                                                 ...   \n",
       "995  Genome-Wide Interrogations in Childhood Acute ...   \n",
       "996  Comparing Effectiveness of a Conservative Poli...   \n",
       "997  Randomized, Double-blind, Placebo-controlled T...   \n",
       "998                                               None   \n",
       "999  Antral Lesions Characterization of a New Cryob...   \n",
       "\n",
       "                                          BriefSummary  \n",
       "0    RATIONALE: Colony-stimulating factors, such as...  \n",
       "1    The purpose of this study is to investigate th...  \n",
       "2    The overall purpose of this clinical study con...  \n",
       "3    This is a multi-site study of adolescents 12-2...  \n",
       "4    Suicidal thoughts, suicide attempts, and suici...  \n",
       "..                                                 ...  \n",
       "995  RATIONALE: Studying samples of blood and bone ...  \n",
       "996  RESEARCH QUESTION Is the effectiveness of cons...  \n",
       "997  Fibromyalgia is a disease that significantly d...  \n",
       "998  The chest compression depth decreases over tim...  \n",
       "999  Atrial fibrillation (AF) is defined as a supra...  \n",
       "\n",
       "[1000 rows x 3 columns]"
      ]
     },
     "execution_count": 5,
     "metadata": {},
     "output_type": "execute_result"
    }
   ],
   "source": [
    "db_connection = sqlite3.connect(\"../clinical_trials.db\")\n",
    "trials = ClinicalTrials(\n",
    "    connection=db_connection, schema_directory=\"../files/schema.json\"\n",
    ")\n",
    "\n",
    "columns = [\"BriefTitle\", \"OfficialTitle\", \"BriefSummary\"]\n",
    "data = pd.DataFrame(trials.query(*columns), columns=columns)\n",
    "data"
   ]
  },
  {
   "cell_type": "code",
   "execution_count": 11,
   "metadata": {},
   "outputs": [
    {
     "name": "stderr",
     "output_type": "stream",
     "text": [
      "A parameter name that contains `beta` will be renamed internally to `bias`. Please use a different name to suppress this warning.\n",
      "A parameter name that contains `gamma` will be renamed internally to `weight`. Please use a different name to suppress this warning.\n",
      "A parameter name that contains `beta` will be renamed internally to `bias`. Please use a different name to suppress this warning.\n",
      "A parameter name that contains `gamma` will be renamed internally to `weight`. Please use a different name to suppress this warning.\n",
      "A parameter name that contains `beta` will be renamed internally to `bias`. Please use a different name to suppress this warning.\n",
      "A parameter name that contains `gamma` will be renamed internally to `weight`. Please use a different name to suppress this warning.\n",
      "A parameter name that contains `beta` will be renamed internally to `bias`. Please use a different name to suppress this warning.\n",
      "A parameter name that contains `gamma` will be renamed internally to `weight`. Please use a different name to suppress this warning.\n",
      "A parameter name that contains `beta` will be renamed internally to `bias`. Please use a different name to suppress this warning.\n",
      "A parameter name that contains `gamma` will be renamed internally to `weight`. Please use a different name to suppress this warning.\n",
      "A parameter name that contains `beta` will be renamed internally to `bias`. Please use a different name to suppress this warning.\n",
      "A parameter name that contains `gamma` will be renamed internally to `weight`. Please use a different name to suppress this warning.\n",
      "A parameter name that contains `beta` will be renamed internally to `bias`. Please use a different name to suppress this warning.\n",
      "A parameter name that contains `gamma` will be renamed internally to `weight`. Please use a different name to suppress this warning.\n",
      "A parameter name that contains `beta` will be renamed internally to `bias`. Please use a different name to suppress this warning.\n",
      "A parameter name that contains `gamma` will be renamed internally to `weight`. Please use a different name to suppress this warning.\n",
      "A parameter name that contains `beta` will be renamed internally to `bias`. Please use a different name to suppress this warning.\n",
      "A parameter name that contains `gamma` will be renamed internally to `weight`. Please use a different name to suppress this warning.\n",
      "A parameter name that contains `beta` will be renamed internally to `bias`. Please use a different name to suppress this warning.\n",
      "A parameter name that contains `gamma` will be renamed internally to `weight`. Please use a different name to suppress this warning.\n",
      "A parameter name that contains `beta` will be renamed internally to `bias`. Please use a different name to suppress this warning.\n",
      "A parameter name that contains `gamma` will be renamed internally to `weight`. Please use a different name to suppress this warning.\n",
      "A parameter name that contains `beta` will be renamed internally to `bias`. Please use a different name to suppress this warning.\n",
      "A parameter name that contains `gamma` will be renamed internally to `weight`. Please use a different name to suppress this warning.\n",
      "A parameter name that contains `beta` will be renamed internally to `bias`. Please use a different name to suppress this warning.\n",
      "A parameter name that contains `gamma` will be renamed internally to `weight`. Please use a different name to suppress this warning.\n",
      "A parameter name that contains `beta` will be renamed internally to `bias`. Please use a different name to suppress this warning.\n",
      "A parameter name that contains `gamma` will be renamed internally to `weight`. Please use a different name to suppress this warning.\n",
      "A parameter name that contains `beta` will be renamed internally to `bias`. Please use a different name to suppress this warning.\n",
      "A parameter name that contains `gamma` will be renamed internally to `weight`. Please use a different name to suppress this warning.\n",
      "A parameter name that contains `beta` will be renamed internally to `bias`. Please use a different name to suppress this warning.\n",
      "A parameter name that contains `gamma` will be renamed internally to `weight`. Please use a different name to suppress this warning.\n",
      "A parameter name that contains `beta` will be renamed internally to `bias`. Please use a different name to suppress this warning.\n",
      "A parameter name that contains `gamma` will be renamed internally to `weight`. Please use a different name to suppress this warning.\n",
      "A parameter name that contains `beta` will be renamed internally to `bias`. Please use a different name to suppress this warning.\n",
      "A parameter name that contains `gamma` will be renamed internally to `weight`. Please use a different name to suppress this warning.\n",
      "A parameter name that contains `beta` will be renamed internally to `bias`. Please use a different name to suppress this warning.\n",
      "A parameter name that contains `gamma` will be renamed internally to `weight`. Please use a different name to suppress this warning.\n",
      "A parameter name that contains `beta` will be renamed internally to `bias`. Please use a different name to suppress this warning.\n",
      "A parameter name that contains `gamma` will be renamed internally to `weight`. Please use a different name to suppress this warning.\n",
      "A parameter name that contains `beta` will be renamed internally to `bias`. Please use a different name to suppress this warning.\n",
      "A parameter name that contains `gamma` will be renamed internally to `weight`. Please use a different name to suppress this warning.\n",
      "A parameter name that contains `beta` will be renamed internally to `bias`. Please use a different name to suppress this warning.\n",
      "A parameter name that contains `gamma` will be renamed internally to `weight`. Please use a different name to suppress this warning.\n",
      "A parameter name that contains `beta` will be renamed internally to `bias`. Please use a different name to suppress this warning.\n",
      "A parameter name that contains `gamma` will be renamed internally to `weight`. Please use a different name to suppress this warning.\n",
      "A parameter name that contains `beta` will be renamed internally to `bias`. Please use a different name to suppress this warning.\n",
      "A parameter name that contains `gamma` will be renamed internally to `weight`. Please use a different name to suppress this warning.\n",
      "A parameter name that contains `beta` will be renamed internally to `bias`. Please use a different name to suppress this warning.\n",
      "A parameter name that contains `gamma` will be renamed internally to `weight`. Please use a different name to suppress this warning.\n",
      "A parameter name that contains `beta` will be renamed internally to `bias`. Please use a different name to suppress this warning.\n",
      "A parameter name that contains `gamma` will be renamed internally to `weight`. Please use a different name to suppress this warning.\n"
     ]
    }
   ],
   "source": [
    "encoder = BertEncoder()\n",
    "vectors = data[\"BriefTitle\"][:10].apply(encoder.encode)"
   ]
  },
  {
   "cell_type": "code",
   "execution_count": 18,
   "metadata": {},
   "outputs": [],
   "source": [
    "vector_array = np.stack(vectors.values)"
   ]
  },
  {
   "cell_type": "code",
   "execution_count": 19,
   "metadata": {},
   "outputs": [
    {
     "data": {
      "text/plain": [
       "(10, 768)"
      ]
     },
     "execution_count": 19,
     "metadata": {},
     "output_type": "execute_result"
    }
   ],
   "source": [
    "vector_array.shape"
   ]
  }
 ],
 "metadata": {
  "kernelspec": {
   "display_name": "litreview-BYspwzaP-py3.11",
   "language": "python",
   "name": "python3"
  },
  "language_info": {
   "codemirror_mode": {
    "name": "ipython",
    "version": 3
   },
   "file_extension": ".py",
   "mimetype": "text/x-python",
   "name": "python",
   "nbconvert_exporter": "python",
   "pygments_lexer": "ipython3",
   "version": "3.11.4"
  }
 },
 "nbformat": 4,
 "nbformat_minor": 2
}

{
 "cells": [
  {
   "cell_type": "code",
   "id": "initial_id",
   "metadata": {
    "collapsed": true,
    "ExecuteTime": {
     "end_time": "2024-08-21T06:33:18.874200Z",
     "start_time": "2024-08-21T06:33:16.788309Z"
    }
   },
   "source": [
    "import sqlite3\n",
    "\n",
    "import numpy as np\n",
    "import pandas as pd\n",
    "\n",
    "from litreview import ClinicalTrials"
   ],
   "outputs": [],
   "execution_count": 1
  },
  {
   "metadata": {
    "ExecuteTime": {
     "end_time": "2024-08-21T06:33:26.000039Z",
     "start_time": "2024-08-21T06:33:24.774491Z"
    }
   },
   "cell_type": "code",
   "source": [
    "db_connection = sqlite3.connect(\"../clinical_trials_lean.db\")\n",
    "trials = ClinicalTrials(\n",
    "    connection=db_connection, schema_directory=\"../files/schema.json\"\n",
    ")\n",
    "\n",
    "columns = [\"BriefTitle\", \"BriefSummary\"]\n",
    "data = pd.DataFrame(trials.query(*columns), columns=columns)\n",
    "data.dropna(inplace=True)\n",
    "data"
   ],
   "id": "b0d20e3f22b9609e",
   "outputs": [
    {
     "data": {
      "text/plain": [
       "                                            BriefTitle  \\\n",
       "0    Kinesiotape for Edema After Bilateral Total Kn...   \n",
       "1    An Open-labeled Trial of Ramipril in Patients ...   \n",
       "2           OCTA in Epivascular Glia After Dex Implant   \n",
       "3    Brain-imaging and Adolescent Neuroscience Cons...   \n",
       "4    Leverage Noninvasive Transcutaneous Vagus Nerv...   \n",
       "..                                                 ...   \n",
       "995  Treatment of Non Union of Long Bone Fractures ...   \n",
       "996  Century Trial, a Randomized Lifestyle Modifica...   \n",
       "997  Reduced Craniospinal Radiation Therapy and Che...   \n",
       "998  Prospective Two-arm Study of Fertility in Men ...   \n",
       "999  Image-guided Computational and Experimental An...   \n",
       "\n",
       "                                          BriefSummary  \n",
       "0    The purpose of this study is to determine if k...  \n",
       "1    Physiology of migraine involving renin-angiote...  \n",
       "2    The aim of this prospective study was for the ...  \n",
       "3    This is a multi-site study of adolescents 12-2...  \n",
       "4    Suicidal thoughts, suicide attempts, and suici...  \n",
       "..                                                 ...  \n",
       "995  Treatment of nonunion, delayed union and malun...  \n",
       "996  The Century Trial is a single center Phase III...  \n",
       "997  This phase II trial studies how well reduced d...  \n",
       "998  COVID-19 infection is hypothesized to have a p...  \n",
       "999  Due to the increase in the average age of the ...  \n",
       "\n",
       "[1000 rows x 2 columns]"
      ],
      "text/html": [
       "<div>\n",
       "<style scoped>\n",
       "    .dataframe tbody tr th:only-of-type {\n",
       "        vertical-align: middle;\n",
       "    }\n",
       "\n",
       "    .dataframe tbody tr th {\n",
       "        vertical-align: top;\n",
       "    }\n",
       "\n",
       "    .dataframe thead th {\n",
       "        text-align: right;\n",
       "    }\n",
       "</style>\n",
       "<table border=\"1\" class=\"dataframe\">\n",
       "  <thead>\n",
       "    <tr style=\"text-align: right;\">\n",
       "      <th></th>\n",
       "      <th>BriefTitle</th>\n",
       "      <th>BriefSummary</th>\n",
       "    </tr>\n",
       "  </thead>\n",
       "  <tbody>\n",
       "    <tr>\n",
       "      <th>0</th>\n",
       "      <td>Kinesiotape for Edema After Bilateral Total Kn...</td>\n",
       "      <td>The purpose of this study is to determine if k...</td>\n",
       "    </tr>\n",
       "    <tr>\n",
       "      <th>1</th>\n",
       "      <td>An Open-labeled Trial of Ramipril in Patients ...</td>\n",
       "      <td>Physiology of migraine involving renin-angiote...</td>\n",
       "    </tr>\n",
       "    <tr>\n",
       "      <th>2</th>\n",
       "      <td>OCTA in Epivascular Glia After Dex Implant</td>\n",
       "      <td>The aim of this prospective study was for the ...</td>\n",
       "    </tr>\n",
       "    <tr>\n",
       "      <th>3</th>\n",
       "      <td>Brain-imaging and Adolescent Neuroscience Cons...</td>\n",
       "      <td>This is a multi-site study of adolescents 12-2...</td>\n",
       "    </tr>\n",
       "    <tr>\n",
       "      <th>4</th>\n",
       "      <td>Leverage Noninvasive Transcutaneous Vagus Nerv...</td>\n",
       "      <td>Suicidal thoughts, suicide attempts, and suici...</td>\n",
       "    </tr>\n",
       "    <tr>\n",
       "      <th>...</th>\n",
       "      <td>...</td>\n",
       "      <td>...</td>\n",
       "    </tr>\n",
       "    <tr>\n",
       "      <th>995</th>\n",
       "      <td>Treatment of Non Union of Long Bone Fractures ...</td>\n",
       "      <td>Treatment of nonunion, delayed union and malun...</td>\n",
       "    </tr>\n",
       "    <tr>\n",
       "      <th>996</th>\n",
       "      <td>Century Trial, a Randomized Lifestyle Modifica...</td>\n",
       "      <td>The Century Trial is a single center Phase III...</td>\n",
       "    </tr>\n",
       "    <tr>\n",
       "      <th>997</th>\n",
       "      <td>Reduced Craniospinal Radiation Therapy and Che...</td>\n",
       "      <td>This phase II trial studies how well reduced d...</td>\n",
       "    </tr>\n",
       "    <tr>\n",
       "      <th>998</th>\n",
       "      <td>Prospective Two-arm Study of Fertility in Men ...</td>\n",
       "      <td>COVID-19 infection is hypothesized to have a p...</td>\n",
       "    </tr>\n",
       "    <tr>\n",
       "      <th>999</th>\n",
       "      <td>Image-guided Computational and Experimental An...</td>\n",
       "      <td>Due to the increase in the average age of the ...</td>\n",
       "    </tr>\n",
       "  </tbody>\n",
       "</table>\n",
       "<p>1000 rows × 2 columns</p>\n",
       "</div>"
      ]
     },
     "execution_count": 2,
     "metadata": {},
     "output_type": "execute_result"
    }
   ],
   "execution_count": 2
  },
  {
   "metadata": {
    "ExecuteTime": {
     "end_time": "2024-08-21T07:24:35.426860Z",
     "start_time": "2024-08-21T07:24:35.422741Z"
    }
   },
   "cell_type": "code",
   "source": [
    "from chromadb import PersistentClient\n",
    "from chromadb.utils.embedding_functions import SentenceTransformerEmbeddingFunction\n",
    "import time\n",
    "import uuid"
   ],
   "id": "215b780f29a1b59f",
   "outputs": [],
   "execution_count": 33
  },
  {
   "metadata": {
    "ExecuteTime": {
     "end_time": "2024-08-21T07:18:04.977184Z",
     "start_time": "2024-08-21T07:17:59.203265Z"
    }
   },
   "cell_type": "code",
   "source": [
    "# Create vector store - OOM issues (w/ 32 GB RAM) using in-memory client\n",
    "client = PersistentClient(path=\"../chromadb\")\n",
    "collection = client.create_collection(\n",
    "    \"default\",\n",
    "    embedding_function=SentenceTransformerEmbeddingFunction(model_name=\"neuml/pubmedbert-base-embeddings\")\n",
    ")"
   ],
   "id": "84cbe2e78e874a44",
   "outputs": [],
   "execution_count": 23
  },
  {
   "metadata": {
    "ExecuteTime": {
     "end_time": "2024-08-21T09:27:28.271556Z",
     "start_time": "2024-08-21T09:26:56.606751Z"
    }
   },
   "cell_type": "code",
   "source": [
    "start = time.time()\n",
    "# Index data\n",
    "collection.add(ids=[str(i) for i in range(len(data['BriefSummary']))], documents = data['BriefSummary'].tolist())\n",
    "\n",
    "print(f\"ELAPSED = {time.time() - start:.2f}s\")"
   ],
   "id": "713e47f70324feb4",
   "outputs": [
    {
     "name": "stdout",
     "output_type": "stream",
     "text": [
      "ELAPSED = 31.66s\n"
     ]
    }
   ],
   "execution_count": 51
  },
  {
   "metadata": {
    "ExecuteTime": {
     "end_time": "2024-08-21T09:30:12.364714Z",
     "start_time": "2024-08-21T09:30:12.361414Z"
    }
   },
   "cell_type": "code",
   "source": [
    "query = 'suicide'\n",
    "max_results = 5"
   ],
   "id": "aa017438b0f2342",
   "outputs": [],
   "execution_count": 53
  },
  {
   "metadata": {
    "ExecuteTime": {
     "end_time": "2024-08-21T09:30:12.583109Z",
     "start_time": "2024-08-21T09:30:12.511975Z"
    }
   },
   "cell_type": "code",
   "source": "results = collection.query(query_texts=query, n_results=max_results, include=['distances'])",
   "id": "28214687b48766a0",
   "outputs": [],
   "execution_count": 54
  },
  {
   "metadata": {
    "ExecuteTime": {
     "end_time": "2024-08-21T09:30:16.113497Z",
     "start_time": "2024-08-21T09:30:16.107357Z"
    }
   },
   "cell_type": "code",
   "source": "results",
   "id": "80b5cd8d4c49b573",
   "outputs": [
    {
     "data": {
      "text/plain": [
       "{'ids': [['476', '864', '4', '745', '634']],\n",
       " 'distances': [[138.98170471191406,\n",
       "   192.12664794921875,\n",
       "   203.3760528564453,\n",
       "   214.7658233642578,\n",
       "   273.4443664550781]],\n",
       " 'metadatas': None,\n",
       " 'embeddings': None,\n",
       " 'documents': None,\n",
       " 'uris': None,\n",
       " 'data': None,\n",
       " 'included': ['distances']}"
      ]
     },
     "execution_count": 55,
     "metadata": {},
     "output_type": "execute_result"
    }
   ],
   "execution_count": 55
  },
  {
   "metadata": {
    "ExecuteTime": {
     "end_time": "2024-08-21T09:31:19.885317Z",
     "start_time": "2024-08-21T09:31:19.871768Z"
    }
   },
   "cell_type": "code",
   "source": "data.iloc[results['ids'][0]]",
   "id": "f42868d1ed798d69",
   "outputs": [
    {
     "data": {
      "text/plain": [
       "                                            BriefTitle  \\\n",
       "477  Pain Perception in Suicidal Behavior Vulnerabi...   \n",
       "865  Brief Intervention for Suicide Risk Reduction ...   \n",
       "4    Leverage Noninvasive Transcutaneous Vagus Nerv...   \n",
       "746  Randomized, Placebo-controlled Multicenter Tri...   \n",
       "635  Using D-cycloserine to Enhance the Benefits of...   \n",
       "\n",
       "                                          BriefSummary  \n",
       "477  In France, almost 1 death on 50 is a suicide. ...  \n",
       "865  Adolescent suicide is the 2nd leading cause of...  \n",
       "4    Suicidal thoughts, suicide attempts, and suici...  \n",
       "746  The primary hypothesis of this confirmatory st...  \n",
       "635  This study will examine whether pretreatment w...  "
      ],
      "text/html": [
       "<div>\n",
       "<style scoped>\n",
       "    .dataframe tbody tr th:only-of-type {\n",
       "        vertical-align: middle;\n",
       "    }\n",
       "\n",
       "    .dataframe tbody tr th {\n",
       "        vertical-align: top;\n",
       "    }\n",
       "\n",
       "    .dataframe thead th {\n",
       "        text-align: right;\n",
       "    }\n",
       "</style>\n",
       "<table border=\"1\" class=\"dataframe\">\n",
       "  <thead>\n",
       "    <tr style=\"text-align: right;\">\n",
       "      <th></th>\n",
       "      <th>BriefTitle</th>\n",
       "      <th>BriefSummary</th>\n",
       "    </tr>\n",
       "  </thead>\n",
       "  <tbody>\n",
       "    <tr>\n",
       "      <th>477</th>\n",
       "      <td>Pain Perception in Suicidal Behavior Vulnerabi...</td>\n",
       "      <td>In France, almost 1 death on 50 is a suicide. ...</td>\n",
       "    </tr>\n",
       "    <tr>\n",
       "      <th>865</th>\n",
       "      <td>Brief Intervention for Suicide Risk Reduction ...</td>\n",
       "      <td>Adolescent suicide is the 2nd leading cause of...</td>\n",
       "    </tr>\n",
       "    <tr>\n",
       "      <th>4</th>\n",
       "      <td>Leverage Noninvasive Transcutaneous Vagus Nerv...</td>\n",
       "      <td>Suicidal thoughts, suicide attempts, and suici...</td>\n",
       "    </tr>\n",
       "    <tr>\n",
       "      <th>746</th>\n",
       "      <td>Randomized, Placebo-controlled Multicenter Tri...</td>\n",
       "      <td>The primary hypothesis of this confirmatory st...</td>\n",
       "    </tr>\n",
       "    <tr>\n",
       "      <th>635</th>\n",
       "      <td>Using D-cycloserine to Enhance the Benefits of...</td>\n",
       "      <td>This study will examine whether pretreatment w...</td>\n",
       "    </tr>\n",
       "  </tbody>\n",
       "</table>\n",
       "</div>"
      ]
     },
     "execution_count": 56,
     "metadata": {},
     "output_type": "execute_result"
    }
   ],
   "execution_count": 56
  }
 ],
 "metadata": {
  "kernelspec": {
   "display_name": "Python 3",
   "language": "python",
   "name": "python3"
  },
  "language_info": {
   "codemirror_mode": {
    "name": "ipython",
    "version": 2
   },
   "file_extension": ".py",
   "mimetype": "text/x-python",
   "name": "python",
   "nbconvert_exporter": "python",
   "pygments_lexer": "ipython2",
   "version": "2.7.6"
  }
 },
 "nbformat": 4,
 "nbformat_minor": 5
}

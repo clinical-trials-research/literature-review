{
 "cells": [
  {
   "cell_type": "markdown",
   "metadata": {},
   "source": [
    "# Summary Statistics"
   ]
  },
  {
   "cell_type": "code",
   "execution_count": 1,
   "metadata": {},
   "outputs": [],
   "source": [
    "import sqlite3\n",
    "\n",
    "import httpx\n",
    "import pandas as pd\n",
    "\n",
    "from litreview import ClinicalTrials\n",
    "\n",
    "# Make pandas display numbers in non-scientific notation\n",
    "pd.set_option(\"display.float_format\", lambda x: f\"{x:0.1f}\")"
   ]
  },
  {
   "cell_type": "markdown",
   "metadata": {},
   "source": [
    "## Retrieve Integer Fields"
   ]
  },
  {
   "cell_type": "code",
   "execution_count": 2,
   "metadata": {},
   "outputs": [
    {
     "data": {
      "text/plain": [
       "['DispFirstPostYear',\n",
       " 'DispFirstSubmitYear',\n",
       " 'EnrollmentCount',\n",
       " 'EventGroupDeathsNumAffected',\n",
       " 'EventGroupDeathsNumAtRisk',\n",
       " 'EventGroupOtherNumAffected',\n",
       " 'EventGroupOtherNumAtRisk',\n",
       " 'EventGroupSeriousNumAffected',\n",
       " 'EventGroupSeriousNumAtRisk',\n",
       " 'LargeDocSize',\n",
       " 'LastUpdatePostYear',\n",
       " 'LastUpdateSubmitYear',\n",
       " 'NumArmGroupInterventionNames',\n",
       " 'NumArmGroups',\n",
       " 'NumAvailIPDs',\n",
       " 'NumBaselineCategories',\n",
       " 'NumBaselineClasses',\n",
       " 'NumBaselineDenoms',\n",
       " 'NumBaselineGroups',\n",
       " 'NumBaselineMeasureDenoms',\n",
       " 'NumBaselineMeasurements',\n",
       " 'NumBaselineMeasures',\n",
       " 'NumCentralContacts',\n",
       " 'NumCollaborators',\n",
       " 'NumCollaboratorsPlusLead',\n",
       " 'NumConditionAncestors',\n",
       " 'NumConditionBrowseBranches',\n",
       " 'NumConditionBrowseLeafs',\n",
       " 'NumConditionMeshes',\n",
       " 'NumConditions',\n",
       " 'NumDesignWhoMaskeds',\n",
       " 'NumEventGroups',\n",
       " 'NumEvents',\n",
       " 'NumFlowAchievements',\n",
       " 'NumFlowDropWithdraws',\n",
       " 'NumFlowGroups',\n",
       " 'NumFlowMilestones',\n",
       " 'NumFlowPeriods',\n",
       " 'NumFlowReasons',\n",
       " 'NumIPDSharingInfoTypes',\n",
       " 'NumInterventionAncestors',\n",
       " 'NumInterventionArmGroupLabels',\n",
       " 'NumInterventionBrowseBranches',\n",
       " 'NumInterventionBrowseLeafs',\n",
       " 'NumInterventionMeshes',\n",
       " 'NumInterventionOtherNames',\n",
       " 'NumInterventions',\n",
       " 'NumKeywords',\n",
       " 'NumLargeDocs',\n",
       " 'NumLocationContacts',\n",
       " 'NumLocations',\n",
       " 'NumNCTAliases',\n",
       " 'NumOtherEventStatss',\n",
       " 'NumOtherEvents',\n",
       " 'NumOtherOutcomes',\n",
       " 'NumOutcomeAnalyses',\n",
       " 'NumOutcomeAnalysisGroupIds',\n",
       " 'NumOutcomeCategories',\n",
       " 'NumOutcomeClasses',\n",
       " 'NumOutcomeDenoms',\n",
       " 'NumOutcomeGroups',\n",
       " 'NumOutcomeMeasurements',\n",
       " 'NumOutcomeMeasures',\n",
       " 'NumOutcomes',\n",
       " 'NumOverallOfficials',\n",
       " 'NumPhases',\n",
       " 'NumPrimaryOutcomes',\n",
       " 'NumReferences',\n",
       " 'NumRemovedCountries',\n",
       " 'NumRetractionsAllRefs',\n",
       " 'NumRetractionsForRef',\n",
       " 'NumSecondaryIds',\n",
       " 'NumSecondaryOutcomes',\n",
       " 'NumSeeAlsoLinks',\n",
       " 'NumSeriousEventStatss',\n",
       " 'NumSeriousEvents',\n",
       " 'NumStdAges',\n",
       " 'NumUniqueLocationCountries',\n",
       " 'NumUnpostedEvents',\n",
       " 'NumViolationEvents',\n",
       " 'OtherEventStatsNumAffected',\n",
       " 'OtherEventStatsNumAtRisk',\n",
       " 'OtherEventStatsNumEvents',\n",
       " 'ResultsFirstPostYear',\n",
       " 'ResultsFirstSubmitYear',\n",
       " 'SeriousEventStatsNumAffected',\n",
       " 'SeriousEventStatsNumAtRisk',\n",
       " 'SeriousEventStatsNumEvents',\n",
       " 'StudyFirstPostYear',\n",
       " 'StudyFirstSubmitYear',\n",
       " 'SubmissionMCPReleaseN',\n",
       " 'MaximumAge',\n",
       " 'MinimumAge',\n",
       " 'NPtrsToThisExpAccNCTId',\n",
       " 'TargetDuration']"
      ]
     },
     "execution_count": 2,
     "metadata": {},
     "output_type": "execute_result"
    }
   ],
   "source": [
    "API_BASE = \"https://clinicaltrials.gov/api/v2\"\n",
    "API_FIELD_VALUES = API_BASE + \"/stats/field/values\"\n",
    "\n",
    "response = httpx.get(API_FIELD_VALUES, params={\"types\": \"INTEGER|NUMBER\"})\n",
    "response.raise_for_status()\n",
    "data = response.json()\n",
    "integer_fields = [field[\"piece\"] for field in data]\n",
    "integer_fields"
   ]
  },
  {
   "cell_type": "markdown",
   "metadata": {},
   "source": [
    "## Load Data from Database"
   ]
  },
  {
   "cell_type": "code",
   "execution_count": 3,
   "metadata": {},
   "outputs": [
    {
     "ename": "KeyError",
     "evalue": "'DispFirstPostYear'",
     "output_type": "error",
     "traceback": [
      "\u001b[0;31m---------------------------------------------------------------------------\u001b[0m",
      "\u001b[0;31mKeyError\u001b[0m                                  Traceback (most recent call last)",
      "Cell \u001b[0;32mIn[3], line 3\u001b[0m\n\u001b[1;32m      1\u001b[0m db_connection \u001b[38;5;241m=\u001b[39m sqlite3\u001b[38;5;241m.\u001b[39mconnect(\u001b[38;5;124m\"\u001b[39m\u001b[38;5;124m../clinical_trials.db\u001b[39m\u001b[38;5;124m\"\u001b[39m)\n\u001b[1;32m      2\u001b[0m trials \u001b[38;5;241m=\u001b[39m ClinicalTrials(connection\u001b[38;5;241m=\u001b[39mdb_connection, schema_directory\u001b[38;5;241m=\u001b[39m\u001b[38;5;124m\"\u001b[39m\u001b[38;5;124m../files/schema.json\u001b[39m\u001b[38;5;124m\"\u001b[39m)\n\u001b[0;32m----> 3\u001b[0m \u001b[43mtrials\u001b[49m\u001b[38;5;241;43m.\u001b[39;49m\u001b[43mquery\u001b[49m\u001b[43m(\u001b[49m\u001b[38;5;241;43m*\u001b[39;49m\u001b[43minteger_fields\u001b[49m\u001b[43m)\u001b[49m\n",
      "File \u001b[0;32m~/Desktop/Programming/Projects/Clinical Trials Research/literature-review/litreview/clinical_trials.py:58\u001b[0m, in \u001b[0;36mClinicalTrials.query\u001b[0;34m(self, *fields)\u001b[0m\n\u001b[1;32m     51\u001b[0m \u001b[38;5;28;01mdef\u001b[39;00m \u001b[38;5;21mquery\u001b[39m(\u001b[38;5;28mself\u001b[39m, \u001b[38;5;241m*\u001b[39mfields) \u001b[38;5;241m-\u001b[39m\u001b[38;5;241m>\u001b[39m \u001b[38;5;28mlist\u001b[39m:\n\u001b[1;32m     52\u001b[0m \u001b[38;5;250m    \u001b[39m\u001b[38;5;124;03m\"\"\"\u001b[39;00m\n\u001b[1;32m     53\u001b[0m \u001b[38;5;124;03m    Query database for given fields.\u001b[39;00m\n\u001b[1;32m     54\u001b[0m \n\u001b[1;32m     55\u001b[0m \u001b[38;5;124;03m    Returns:\u001b[39;00m\n\u001b[1;32m     56\u001b[0m \u001b[38;5;124;03m        list: Returns list of results\u001b[39;00m\n\u001b[1;32m     57\u001b[0m \u001b[38;5;124;03m    \"\"\"\u001b[39;00m\n\u001b[0;32m---> 58\u001b[0m     tables \u001b[38;5;241m=\u001b[39m \u001b[38;5;28mlist\u001b[39m(\u001b[38;5;28;43mset\u001b[39;49m\u001b[43m(\u001b[49m\u001b[38;5;28;43mself\u001b[39;49m\u001b[38;5;241;43m.\u001b[39;49m\u001b[43m_field_to_table\u001b[49m\u001b[43m[\u001b[49m\u001b[43mi\u001b[49m\u001b[43m]\u001b[49m\u001b[43m \u001b[49m\u001b[38;5;28;43;01mfor\u001b[39;49;00m\u001b[43m \u001b[49m\u001b[43mi\u001b[49m\u001b[43m \u001b[49m\u001b[38;5;129;43;01min\u001b[39;49;00m\u001b[43m \u001b[49m\u001b[43mfields\u001b[49m\u001b[43m)\u001b[49m)\n\u001b[1;32m     59\u001b[0m     results \u001b[38;5;241m=\u001b[39m \u001b[38;5;28mself\u001b[39m\u001b[38;5;241m.\u001b[39mcursor\u001b[38;5;241m.\u001b[39mexecute(\n\u001b[1;32m     60\u001b[0m         \u001b[38;5;124mf\u001b[39m\u001b[38;5;124m'\u001b[39m\u001b[38;5;124mSELECT \u001b[39m\u001b[38;5;132;01m{\u001b[39;00m\u001b[38;5;124m\"\u001b[39m\u001b[38;5;124m, \u001b[39m\u001b[38;5;124m\"\u001b[39m\u001b[38;5;241m.\u001b[39mjoin(fields)\u001b[38;5;132;01m}\u001b[39;00m\u001b[38;5;124m FROM \u001b[39m\u001b[38;5;132;01m{\u001b[39;00m\u001b[38;5;124m\"\u001b[39m\u001b[38;5;124m, \u001b[39m\u001b[38;5;124m\"\u001b[39m\u001b[38;5;241m.\u001b[39mjoin(tables)\u001b[38;5;132;01m}\u001b[39;00m\u001b[38;5;124m'\u001b[39m\n\u001b[1;32m     61\u001b[0m     )\u001b[38;5;241m.\u001b[39mfetchall()\n\u001b[1;32m     62\u001b[0m     \u001b[38;5;28;01mreturn\u001b[39;00m results\n",
      "File \u001b[0;32m~/Desktop/Programming/Projects/Clinical Trials Research/literature-review/litreview/clinical_trials.py:58\u001b[0m, in \u001b[0;36m<genexpr>\u001b[0;34m(.0)\u001b[0m\n\u001b[1;32m     51\u001b[0m \u001b[38;5;28;01mdef\u001b[39;00m \u001b[38;5;21mquery\u001b[39m(\u001b[38;5;28mself\u001b[39m, \u001b[38;5;241m*\u001b[39mfields) \u001b[38;5;241m-\u001b[39m\u001b[38;5;241m>\u001b[39m \u001b[38;5;28mlist\u001b[39m:\n\u001b[1;32m     52\u001b[0m \u001b[38;5;250m    \u001b[39m\u001b[38;5;124;03m\"\"\"\u001b[39;00m\n\u001b[1;32m     53\u001b[0m \u001b[38;5;124;03m    Query database for given fields.\u001b[39;00m\n\u001b[1;32m     54\u001b[0m \n\u001b[1;32m     55\u001b[0m \u001b[38;5;124;03m    Returns:\u001b[39;00m\n\u001b[1;32m     56\u001b[0m \u001b[38;5;124;03m        list: Returns list of results\u001b[39;00m\n\u001b[1;32m     57\u001b[0m \u001b[38;5;124;03m    \"\"\"\u001b[39;00m\n\u001b[0;32m---> 58\u001b[0m     tables \u001b[38;5;241m=\u001b[39m \u001b[38;5;28mlist\u001b[39m(\u001b[38;5;28mset\u001b[39m(\u001b[38;5;28;43mself\u001b[39;49m\u001b[38;5;241;43m.\u001b[39;49m\u001b[43m_field_to_table\u001b[49m\u001b[43m[\u001b[49m\u001b[43mi\u001b[49m\u001b[43m]\u001b[49m \u001b[38;5;28;01mfor\u001b[39;00m i \u001b[38;5;129;01min\u001b[39;00m fields))\n\u001b[1;32m     59\u001b[0m     results \u001b[38;5;241m=\u001b[39m \u001b[38;5;28mself\u001b[39m\u001b[38;5;241m.\u001b[39mcursor\u001b[38;5;241m.\u001b[39mexecute(\n\u001b[1;32m     60\u001b[0m         \u001b[38;5;124mf\u001b[39m\u001b[38;5;124m'\u001b[39m\u001b[38;5;124mSELECT \u001b[39m\u001b[38;5;132;01m{\u001b[39;00m\u001b[38;5;124m\"\u001b[39m\u001b[38;5;124m, \u001b[39m\u001b[38;5;124m\"\u001b[39m\u001b[38;5;241m.\u001b[39mjoin(fields)\u001b[38;5;132;01m}\u001b[39;00m\u001b[38;5;124m FROM \u001b[39m\u001b[38;5;132;01m{\u001b[39;00m\u001b[38;5;124m\"\u001b[39m\u001b[38;5;124m, \u001b[39m\u001b[38;5;124m\"\u001b[39m\u001b[38;5;241m.\u001b[39mjoin(tables)\u001b[38;5;132;01m}\u001b[39;00m\u001b[38;5;124m'\u001b[39m\n\u001b[1;32m     61\u001b[0m     )\u001b[38;5;241m.\u001b[39mfetchall()\n\u001b[1;32m     62\u001b[0m     \u001b[38;5;28;01mreturn\u001b[39;00m results\n",
      "\u001b[0;31mKeyError\u001b[0m: 'DispFirstPostYear'"
     ]
    }
   ],
   "source": [
    "db_connection = sqlite3.connect(\"../clinical_trials.db\")\n",
    "trials = ClinicalTrials(connection=db_connection, schema_directory=\"../files/schema.json\")\n",
    "trials.query(*integer_fields)"
   ]
  }
 ],
 "metadata": {
  "kernelspec": {
   "display_name": "litreview-MWDbGPZ7-py3.11",
   "language": "python",
   "name": "python3"
  },
  "language_info": {
   "codemirror_mode": {
    "name": "ipython",
    "version": 3
   },
   "file_extension": ".py",
   "mimetype": "text/x-python",
   "name": "python",
   "nbconvert_exporter": "python",
   "pygments_lexer": "ipython3",
   "version": "3.11.4"
  }
 },
 "nbformat": 4,
 "nbformat_minor": 2
}
